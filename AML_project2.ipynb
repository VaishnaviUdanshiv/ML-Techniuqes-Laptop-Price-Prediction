{
 "cells": [
  {
   "attachments": {},
   "cell_type": "markdown",
   "metadata": {},
   "source": [
    "Vaishnavi Udanshiv R00224406 AML Project_2"
   ]
  },
  {
   "attachments": {},
   "cell_type": "markdown",
   "metadata": {},
   "source": [
    "Loading Libraries"
   ]
  },
  {
   "cell_type": "code",
   "execution_count": 27,
   "metadata": {},
   "outputs": [],
   "source": [
    "import pandas as pd\n",
    "import numpy as np\n",
    "from sklearn.model_selection import train_test_split\n",
    "from sklearn.preprocessing import LabelEncoder\n",
    "from sklearn.linear_model import LinearRegression\n",
    "from sklearn.tree import DecisionTreeRegressor\n",
    "from sklearn.ensemble import RandomForestRegressor\n",
    "from sklearn.metrics import mean_absolute_error, mean_squared_error, r2_score\n",
    "from sklearn.metrics import accuracy_score, classification_report\n",
    "from sklearn.feature_selection import SelectKBest, f_regression\n",
    "from sklearn.preprocessing import OneHotEncoder, LabelEncoder\n",
    "from sklearn.model_selection import GridSearchCV"
   ]
  },
  {
   "cell_type": "code",
   "execution_count": 28,
   "metadata": {},
   "outputs": [],
   "source": [
    "laptop_df = pd.read_csv('D://MachineLearning//laptop_data.csv')   #loading dataset"
   ]
  },
  {
   "cell_type": "code",
   "execution_count": 29,
   "metadata": {},
   "outputs": [],
   "source": [
    "laptop_df.dropna(inplace=True)    #dropping missing rows"
   ]
  },
  {
   "attachments": {},
   "cell_type": "markdown",
   "metadata": {},
   "source": [
    "Feature Engineering"
   ]
  },
  {
   "cell_type": "code",
   "execution_count": 30,
   "metadata": {},
   "outputs": [],
   "source": [
    "cat_cols = ['Company', 'TypeName', 'ScreenResolution', 'Cpu', 'Gpu', 'OpSys']    # Encoding categorical variables\n",
    "le = LabelEncoder()\n",
    "for col in cat_cols:\n",
    "    laptop_df[col] = le.fit_transform(laptop_df[col])"
   ]
  },
  {
   "cell_type": "code",
   "execution_count": 31,
   "metadata": {},
   "outputs": [],
   "source": [
    "laptop_df['Ram'] = laptop_df['Ram'].str.replace('GB', '').astype(int)              \n",
    "laptop_df['Memory'] = laptop_df['Memory'].str.extract('(\\d+)').astype(int)\n",
    "laptop_df['Weight'] = laptop_df['Weight'].str.replace('kg', '').astype(float)"
   ]
  },
  {
   "cell_type": "code",
   "execution_count": 32,
   "metadata": {},
   "outputs": [],
   "source": [
    "num_cols = ['Inches', 'Weight', 'Price']    # Standarding numerical variables\n",
    "laptop_df[num_cols] = (laptop_df[num_cols] - laptop_df[num_cols].mean()) / laptop_df[num_cols].std()"
   ]
  },
  {
   "cell_type": "code",
   "execution_count": 33,
   "metadata": {},
   "outputs": [],
   "source": [
    "X = laptop_df.drop('Price', axis=1)   # Splitting the data into features and target variable\n",
    "y = laptop_df['Price']\n"
   ]
  },
  {
   "cell_type": "code",
   "execution_count": 34,
   "metadata": {},
   "outputs": [],
   "source": [
    "# Split the data into training and testing sets\n",
    "X_train, X_test, y_train, y_test = train_test_split(X, y, test_size=0.2, random_state=42)"
   ]
  },
  {
   "attachments": {},
   "cell_type": "markdown",
   "metadata": {},
   "source": [
    "Building three different models"
   ]
  },
  {
   "cell_type": "code",
   "execution_count": 35,
   "metadata": {},
   "outputs": [
    {
     "name": "stdout",
     "output_type": "stream",
     "text": [
      "Model: Linear Regression\n",
      "Mean Absolute Error: 0.39469546328725397\n",
      "Mean Squared Error: 0.37057979245340766\n",
      "R-squared Score: 0.6435107578675339\n",
      "\n",
      "Model: Decision Tree\n",
      "Mean Absolute Error: 0.34753906660634426\n",
      "Mean Squared Error: 0.3066751940885274\n",
      "R-squared Score: 0.704985512573\n",
      "\n",
      "Model: Random Forest\n",
      "Mean Absolute Error: 0.2584672185836348\n",
      "Mean Squared Error: 0.19074648748416181\n",
      "R-squared Score: 0.8165062635701913\n",
      "\n"
     ]
    }
   ],
   "source": [
    "models = {\n",
    "    \"Linear Regression\": LinearRegression(),\n",
    "    \"Decision Tree\": DecisionTreeRegressor(),\n",
    "    \"Random Forest\": RandomForestRegressor()\n",
    "}\n",
    "\n",
    "for model_name, model in models.items():\n",
    "    print(\"Model:\", model_name)\n",
    "    \n",
    "    model.fit(X_train, y_train)\n",
    "    \n",
    "    y_pred = model.predict(X_test)\n",
    "    \n",
    "    mae = mean_absolute_error(y_test, y_pred)\n",
    "    mse = mean_squared_error(y_test, y_pred)\n",
    "    r2 = r2_score(y_test, y_pred)\n",
    "    \n",
    "    print(\"Mean Absolute Error:\", mae)\n",
    "    print(\"Mean Squared Error:\", mse)\n",
    "    print(\"R-squared Score:\", r2)\n",
    "    print()"
   ]
  },
  {
   "attachments": {},
   "cell_type": "markdown",
   "metadata": {},
   "source": [
    "Hyperparameter Optimization"
   ]
  },
  {
   "cell_type": "code",
   "execution_count": 36,
   "metadata": {},
   "outputs": [],
   "source": [
    "dt_param_grid = {\n",
    "    'max_depth': [None, 5, 10],      # parameters grid for grid search\n",
    "    'min_samples_split': [2, 5, 10],\n",
    "    'min_samples_leaf': [1, 2, 4],\n",
    "}\n",
    "\n",
    "rf_param_grid = {\n",
    "    'n_estimators': [100, 200, 300],\n",
    "    'max_depth': [None, 5, 10],\n",
    "    'min_samples_split': [2, 5, 10],\n",
    "    'min_samples_leaf': [1, 2, 4],\n",
    "    'max_features': ['auto', 'sqrt', 'log2']\n",
    "}"
   ]
  },
  {
   "cell_type": "code",
   "execution_count": 37,
   "metadata": {},
   "outputs": [],
   "source": [
    "dt = DecisionTreeRegressor(random_state=42)   # Creating a Decision Tree regressor object\n",
    "\n",
    "dt_grid_search = GridSearchCV(estimator=dt, param_grid=dt_param_grid, cv=5, scoring='neg_mean_squared_error')   # Performing grid search for Decision Tree\n",
    "dt_grid_search.fit(X_train, y_train)\n",
    "\n",
    "dt_best_params = dt_grid_search.best_params_     # getting best hyperparameters and model for Decision Tree\n",
    "dt_best_model = dt_grid_search.best_estimator_"
   ]
  },
  {
   "cell_type": "code",
   "execution_count": 38,
   "metadata": {},
   "outputs": [],
   "source": [
    "rf = RandomForestRegressor(random_state=42)     # Creating a Random Forest regressor object\n",
    "\n",
    "rf_grid_search = GridSearchCV(estimator=rf, param_grid=rf_param_grid, cv=5, scoring='neg_mean_squared_error')   # Performing grid search for Random Forest\n",
    "rf_grid_search.fit(X_train, y_train)\n",
    "\n",
    "rf_best_params = rf_grid_search.best_params_      # Getting the best hyperparameters and model for Random Forest\n",
    "rf_best_model = rf_grid_search.best_estimator_"
   ]
  },
  {
   "cell_type": "code",
   "execution_count": null,
   "metadata": {},
   "outputs": [],
   "source": [
    "dt_best_model.fit(X_train, y_train)     # Training the best models with the best hyperparameters\n",
    "rf_best_model.fit(X_train, y_train)"
   ]
  },
  {
   "cell_type": "code",
   "execution_count": null,
   "metadata": {},
   "outputs": [],
   "source": [
    "y_pred_dt = dt_best_model.predict(X_test)    # Predicting on the test set for decision tree\n",
    "y_pred_rf = rf_best_model.predict(X_test)     # Predicting on the test set for random forest"
   ]
  },
  {
   "attachments": {},
   "cell_type": "markdown",
   "metadata": {},
   "source": [
    "Evaluation after hyperparameter optimization"
   ]
  },
  {
   "cell_type": "code",
   "execution_count": 78,
   "metadata": {},
   "outputs": [
    {
     "name": "stdout",
     "output_type": "stream",
     "text": [
      "Best Hyperparameters for Decision Tree: {'max_depth': 10, 'min_samples_leaf': 4, 'min_samples_split': 2}\n",
      "Mean Absolute Error for Decision Tree: 12684.663570654495\n",
      "Mean Squared Error for Decision Tree: 466979740.1353102\n",
      "R-squared Score for Decision Tree: 0.6761314970276693\n",
      "\n",
      "Best Hyperparameters for Random Forest: {'max_depth': None, 'max_features': 'sqrt', 'min_samples_leaf': 1, 'min_samples_split': 2, 'n_estimators': 200}\n",
      "Mean Absolute Error for Random Forest: 8843.667684137934\n",
      "Mean Squared Error for Random Forest: 251733212.16983593\n",
      "R-squared Score for Random Forest: 0.8254132854880653\n",
      "\n"
     ]
    }
   ],
   "source": [
    "mae_dt = mean_absolute_error(y_test, y_pred_dt)\n",
    "mse_dt = mean_squared_error(y_test, y_pred_dt)\n",
    "r2_dt = r2_score(y_test, y_pred_dt)\n",
    "\n",
    "mae_rf = mean_absolute_error(y_test, y_pred_rf)\n",
    "mse_rf = mean_squared_error(y_test, y_pred_rf)\n",
    "r2_rf = r2_score(y_test, y_pred_rf)\n",
    "\n",
    "print(\"Best Hyperparameters for Decision Tree:\", dt_best_params)\n",
    "print(\"Mean Absolute Error for Decision Tree:\", mae_dt)\n",
    "print(\"Mean Squared Error for Decision Tree:\", mse_dt)\n",
    "print(\"R-squared Score for Decision Tree:\", r2_dt)\n",
    "print()\n",
    "\n",
    "print(\"Best Hyperparameters for Random Forest:\", rf_best_params)\n",
    "print(\"Mean Absolute Error for Random Forest:\", mae_rf)\n",
    "print(\"Mean Squared Error for Random Forest:\", mse_rf)\n",
    "print(\"R-squared Score for Random Forest:\", r2_rf)\n",
    "print()\n"
   ]
  }
 ],
 "metadata": {
  "kernelspec": {
   "display_name": "Python 3",
   "language": "python",
   "name": "python3"
  },
  "language_info": {
   "codemirror_mode": {
    "name": "ipython",
    "version": 3
   },
   "file_extension": ".py",
   "mimetype": "text/x-python",
   "name": "python",
   "nbconvert_exporter": "python",
   "pygments_lexer": "ipython3",
   "version": "3.9.12"
  },
  "orig_nbformat": 4
 },
 "nbformat": 4,
 "nbformat_minor": 2
}
